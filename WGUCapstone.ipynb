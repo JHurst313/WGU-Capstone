{
 "cells": [
  {
   "cell_type": "code",
   "execution_count": 1,
   "id": "c3791466",
   "metadata": {},
   "outputs": [],
   "source": [
    "# Import all the tools we need\n",
    "\n",
    "# Regular EDA (Exploratory Data Analysis) and plotting libraries\n",
    "import numpy as np\n",
    "import pandas as pd\n",
    "import matplotlib.pyplot as plt\n",
    "import seaborn as sns\n",
    "\n",
    "%matplotlib inline\n",
    "\n",
    "# import models from skikit learn\n",
    "from sklearn.linear_model import Ridge, LinearRegression, ElasticNet\n",
    "from sklearn.ensemble import RandomForestRegressor\n",
    "from sklearn import svm\n",
    "\n",
    "# Model Evaluations\n",
    "from sklearn.utils import shuffle\n",
    "from sklearn.model_selection import train_test_split, cross_val_score\n",
    "from sklearn.model_selection import RandomizedSearchCV, GridSearchCV\n",
    "from sklearn.metrics import confusion_matrix, classification_report\n",
    "from sklearn.metrics import precision_score, recall_score, f1_score\n",
    "from sklearn.metrics import plot_roc_curve"
   ]
  },
  {
   "cell_type": "code",
   "execution_count": 2,
   "id": "b3426232",
   "metadata": {},
   "outputs": [],
   "source": [
    "# Load the data\n",
    "df = pd.read_csv(\"student-mat.csv\")"
   ]
  },
  {
   "cell_type": "code",
   "execution_count": 3,
   "id": "479fff88",
   "metadata": {
    "scrolled": false
   },
   "outputs": [],
   "source": [
    "# Change \"higher\" column to binary numbers, yes=1 and no=0\n",
    "df.replace(('yes', 'no'), (1, 0), inplace=True)"
   ]
  },
  {
   "cell_type": "code",
   "execution_count": 4,
   "id": "922d03fd",
   "metadata": {
    "scrolled": false
   },
   "outputs": [],
   "source": [
    "reduced_df = df[[\"Medu\", \"Fedu\", \"studytime\", \"failures\", \"higher\", \"Dalc\", \"Walc\", \"G1\", \"G2\", \"G3\"]]"
   ]
  },
  {
   "cell_type": "code",
   "execution_count": 5,
   "id": "9ef34a9a",
   "metadata": {},
   "outputs": [],
   "source": [
    "# Split data into x/y \n",
    "# X will be all columns EXCEPT target, so just drop target column\n",
    "X = reduced_df.drop(\"G3\", axis=1)\n",
    "y = reduced_df[\"G3\"]   # binary classification\n",
    "\n",
    "# Split data into train/test sets\n",
    "np.random.seed(42)\n",
    "X_train, X_test, y_train, y_test = train_test_split(X, y, test_size=0.2)"
   ]
  },
  {
   "cell_type": "code",
   "execution_count": 6,
   "id": "43e1c3ed",
   "metadata": {},
   "outputs": [],
   "source": [
    "# Put models in a dictionary\n",
    "models = { \"Ridge\": Ridge(),\n",
    "         \"RandomForest\": RandomForestRegressor(),\n",
    "         \"LRegression\": LinearRegression(),\n",
    "         \"ElasticNet\": ElasticNet()}\n",
    "\n",
    "# create a function to fit (train) and score models\n",
    "def fit_and_score(models, X_train, X_test, y_train, y_test):\n",
    "    \"\"\"\n",
    "    Fits and evaluates given machine learning models\n",
    "    models: a dict of different Scikit-Learn machine learning models\n",
    "    X_train : training data (no labels/targets)\n",
    "    X_test: testing data (no labels)\n",
    "    y_test: testing labels\n",
    "    y_train: training labels\n",
    "    \"\"\"\n",
    "    \n",
    "    #Make a dictionary to keep model scores\n",
    "    model_scores = {}\n",
    "    \n",
    "    #Loop through models\n",
    "    for name, model in models.items():\n",
    "        # Fit the model to the data\n",
    "        model.fit(X_train, y_train)\n",
    "        # Evaluate the model and append it's score to model_scores\n",
    "        # We'll save the name of the model(KNN, LogisticRegressions, RandomForest) to the model_scores empty \n",
    "        # dictionary as the key and the score as the value\n",
    "        model_scores[name] = model.score(X_test, y_test)\n",
    "    return model_scores  # will return a dictionary"
   ]
  },
  {
   "cell_type": "code",
   "execution_count": 7,
   "id": "1c89eb00",
   "metadata": {},
   "outputs": [],
   "source": [
    "model_scores = fit_and_score(models=models, \n",
    "                            X_train=X_train,\n",
    "                            X_test=X_test,\n",
    "                            y_train=y_train,\n",
    "                            y_test=y_test)"
   ]
  },
  {
   "cell_type": "code",
   "execution_count": 8,
   "id": "22279106",
   "metadata": {},
   "outputs": [],
   "source": [
    "# Let's check MSE and MAE to calculate the error\n",
    "from sklearn.metrics import mean_absolute_error, mean_squared_error\n",
    "\n",
    "# calculating the performance of the Random Forest Regression Model\n",
    "rf = RandomForestRegressor(random_state=42)\n",
    "rfModel = rf.fit(X_train, y_train)\n",
    "y_pred_r = rfModel.predict(X_test)\n",
    "mae_r = mean_absolute_error(y_test, y_pred_r)\n",
    "mse_r = mean_squared_error(y_test, y_pred_r)"
   ]
  },
  {
   "cell_type": "code",
   "execution_count": 9,
   "id": "099e7f97",
   "metadata": {},
   "outputs": [],
   "source": [
    "# Let's start by trying to tune our RandomForestRegression model. \n",
    "\n",
    "# Set up two empty lists\n",
    "train_scores = []\n",
    "test_scores = []\n",
    "\n",
    "# Create a list of different values for n_estimators  (default is 100)\n",
    "estimators = range(100, 1000, 100)\n",
    "\n",
    "# instantiate\n",
    "rfr = RandomForestRegressor()\n",
    "\n",
    "# Loop through the values\n",
    "for i in estimators:\n",
    "    rfr.set_params(n_estimators=i)\n",
    "    \n",
    "    # Fit the algorithm\n",
    "    rfr.fit(X_train, y_train)\n",
    "    \n",
    "    # update the training scores list\n",
    "    train_scores.append(rfr.score(X_train, y_train))\n",
    "    \n",
    "    # update test scores list\n",
    "    test_scores.append(rfr.score(X_test, y_test))"
   ]
  },
  {
   "cell_type": "code",
   "execution_count": 10,
   "id": "ab799897",
   "metadata": {},
   "outputs": [],
   "source": [
    "# Let's test values for max_depth\n",
    "# Set up two empty lists\n",
    "train_scores_max_depth = []\n",
    "test_scores_max_depth = []\n",
    "\n",
    "# Create a list of different values for max_depth  (default is none)\n",
    "estimators = range(1, 32)\n",
    "\n",
    "# instantiate\n",
    "rfr = RandomForestRegressor()\n",
    "\n",
    "# Loop through the values\n",
    "for i in estimators:\n",
    "    rfr.set_params(max_depth=i)\n",
    "    \n",
    "    # Fit the algorithm\n",
    "    rfr.fit(X_train, y_train)\n",
    "    \n",
    "    # update the training scores list\n",
    "    train_scores_max_depth.append(rfr.score(X_train, y_train))\n",
    "    \n",
    "    # update test scores list\n",
    "    test_scores_max_depth.append(rfr.score(X_test, y_test))"
   ]
  },
  {
   "cell_type": "code",
   "execution_count": 11,
   "id": "eb5a3a35",
   "metadata": {},
   "outputs": [
    {
     "name": "stdout",
     "output_type": "stream",
     "text": [
      "Fitting 5 folds for each of 2 candidates, totalling 10 fits\n"
     ]
    }
   ],
   "source": [
    "# Best hyperparameters for our model\n",
    "param_grid = {  'max_depth': [24], 'max_features': ['auto', 'log2'], 'n_estimators': [500]}\n",
    "\n",
    "rfr = RandomForestRegressor(random_state=1)\n",
    "\n",
    "g_search = GridSearchCV(estimator = rfr, param_grid = param_grid, cv = 5, verbose = True)\n",
    "\n",
    "# Fit grid hyperparameter search model\n",
    "g_search_train_model = g_search.fit(X_train, y_train)"
   ]
  },
  {
   "cell_type": "code",
   "execution_count": 12,
   "id": "6ab29a86",
   "metadata": {},
   "outputs": [],
   "source": [
    "g_search_test_model = g_search.score(X_test, y_test)"
   ]
  },
  {
   "cell_type": "code",
   "execution_count": 13,
   "id": "6ea52d74",
   "metadata": {},
   "outputs": [],
   "source": [
    "# calculating the performance of the TUNED Random Forest Regression Model\n",
    "y_pred_r = g_search_train_model.predict(X_test)\n",
    "mae_r = mean_absolute_error(y_test, y_pred_r)\n",
    "mse_r = mean_squared_error(y_test, y_pred_r)"
   ]
  },
  {
   "cell_type": "code",
   "execution_count": 14,
   "id": "0486531b",
   "metadata": {},
   "outputs": [],
   "source": [
    "import ipywidgets as widgets\n",
    "from ipywidgets import Layout, HBox, Label\n",
    "\n",
    "# Is there an event handler for these? How do we input all of the values selected into the model? \n",
    "# How can I format these so the entire description shows? HBox? VBox?\n",
    "medu_dropdown = widgets.Dropdown(options=[('None', 1), ('Elementary School', 2), ('High School', 3), ('College', 4)],\n",
    "                                value=2,\n",
    "                                )\n",
    "\n",
    "medu = HBox([Label('Mothers education level:'), medu_dropdown])"
   ]
  },
  {
   "cell_type": "code",
   "execution_count": 15,
   "id": "d3c4077c",
   "metadata": {},
   "outputs": [],
   "source": [
    "fedu_dropdown = widgets.Dropdown(\n",
    "            options=[('None', 1), ('Elementary School', 2), ('High School', 3), ('College', 4)],\n",
    "            value=2,\n",
    "        )\n",
    "fedu = HBox([Label('Fathers education level:'), fedu_dropdown])"
   ]
  },
  {
   "cell_type": "code",
   "execution_count": 16,
   "id": "055d24fc",
   "metadata": {},
   "outputs": [],
   "source": [
    "studytime = widgets.Dropdown(\n",
    "            options=[('Under two hours per week', 1), ('2-5 hours per week', 2), ('5-10 hours per week', 3), \n",
    "                     ('10+ hours per week', 4)],\n",
    "            value=2,\n",
    "        )\n",
    "study = HBox([Label('Study time per week:'), studytime])"
   ]
  },
  {
   "cell_type": "code",
   "execution_count": 17,
   "id": "148d81d4",
   "metadata": {},
   "outputs": [],
   "source": [
    "failures = widgets.Dropdown(\n",
    "            options=[('Zero', 0), ('One', 1), ('Two', 2), ('Three or more', 3)],\n",
    "            value=2,\n",
    "        )\n",
    "fail = HBox([Label('Number of class failures in your past:'), failures])"
   ]
  },
  {
   "cell_type": "code",
   "execution_count": 18,
   "id": "a408716f",
   "metadata": {},
   "outputs": [],
   "source": [
    "higher =  widgets.RadioButtons(\n",
    "            options=[('Yes', 1), ('No', 0)],\n",
    "            disabled=False\n",
    "        )\n",
    "high = HBox([Label('Do you plan to go to college?'), higher])"
   ]
  },
  {
   "cell_type": "code",
   "execution_count": 19,
   "id": "52192f96",
   "metadata": {},
   "outputs": [],
   "source": [
    "Dalc = widgets.Dropdown(\n",
    "            options=[(\"I don't drink alcohol on weekdays\", 1), ('One day per week', 2), ('Two days per week', 3), ('Three days per week', 4), ('Four or more days per week', 5)],\n",
    "            value=2,\n",
    "        )\n",
    "dalc = HBox([Label('Weekday alcohol consumption'), Dalc])"
   ]
  },
  {
   "cell_type": "code",
   "execution_count": 20,
   "id": "d45f1623",
   "metadata": {},
   "outputs": [],
   "source": [
    "Walc = widgets.Dropdown(options=[(\"No alchol\", 1), ('Low alcohol', 2), ('Some alcohol', 3), \n",
    "                                       ('A lot of alcohol', 4), ('Consistently wasted', 5)],\n",
    "            value=2,\n",
    "        )\n",
    "walc = HBox([Label('Weekend alcohol consumption'), Walc])"
   ]
  },
  {
   "cell_type": "code",
   "execution_count": 21,
   "id": "ae47a585",
   "metadata": {},
   "outputs": [],
   "source": [
    "G1 = widgets.Select(\n",
    "        options=[(\"A\", 20), ('A-', 19), ('B+', 18), ('B', 17), ('B-', 16), ('C+', 15), ('C', 14), \n",
    "                 ('C-', 13), ('D+', 12), ('D', 11), ('D-', 10), ('F', 9)],\n",
    "        # value='C',\n",
    "        # rows=10,\n",
    "        # description='First Period Grade:',\n",
    "        disabled=False\n",
    "    )\n",
    "g1 = HBox([Label('First period grade:'), G1])"
   ]
  },
  {
   "cell_type": "code",
   "execution_count": 22,
   "id": "01a965fa",
   "metadata": {},
   "outputs": [],
   "source": [
    "G2 = widgets.Select(\n",
    "        options=[(\"A\", 20), ('A-', 19), ('B+', 18), ('B', 17), ('B-', 16), ('C+', 15), ('C', 14), \n",
    "                 ('C-', 13), ('D+', 12), ('D', 11), ('D-', 10), ('F', 9)],\n",
    "        # value='C',\n",
    "        # rows=10,\n",
    "        # description='Second Period Grade:',\n",
    "        disabled=False\n",
    "    )\n",
    "g2 = HBox([Label('Second period grade:'), G2])"
   ]
  },
  {
   "cell_type": "code",
   "execution_count": 23,
   "id": "92c527fb",
   "metadata": {},
   "outputs": [
    {
     "data": {
      "application/vnd.jupyter.widget-view+json": {
       "model_id": "2ffd86740def4adeb07d918ee6811ac5",
       "version_major": 2,
       "version_minor": 0
      },
      "text/plain": [
       "VBox(children=(HBox(children=(Label(value='Mothers education level:'), Dropdown(index=1, options=(('None', 1),…"
      ]
     },
     "metadata": {},
     "output_type": "display_data"
    }
   ],
   "source": [
    "# Layout the widget\n",
    "from ipywidgets import Button, HBox, VBox\n",
    "title_text = widgets.HTML(\"<h3 class='text-center'><font color='green'>Student Performance Predictor</font><h3>\")\n",
    "student_parameters = VBox([medu, fedu, study, fail, high, dalc, walc, g1, g2])\n",
    "student_parameters"
   ]
  },
  {
   "cell_type": "code",
   "execution_count": 24,
   "id": "d42074d5",
   "metadata": {},
   "outputs": [
    {
     "data": {
      "text/plain": [
       "19.024"
      ]
     },
     "execution_count": 24,
     "metadata": {},
     "output_type": "execute_result"
    }
   ],
   "source": [
    "# how to I change this to use the G3 input by the student and the studytime input by the student from the dropdown?\n",
    "# How to create a dataframe from the values input by the students?\n",
    "data={'Medu':[medu_dropdown.value],'Fedu':[fedu_dropdown.value],'studytime':[studytime.value],'failures':[failures.value],'higher':[higher.value],'Dalc':[Dalc.value],'Walc':[Walc.value],'G1':[G1.value],'G2':[G2.value]}\n",
    "student_df=pd.DataFrame(data)\n",
    "performance = g_search_train_model.predict(student_df)\n",
    "performance[0]"
   ]
  },
  {
   "cell_type": "code",
   "execution_count": 25,
   "id": "a2b14e29",
   "metadata": {},
   "outputs": [
    {
     "data": {
      "image/png": "[encoded data removed]",
      "text/plain": [
       "<Figure size 720x432 with 1 Axes>"
      ]
     },
     "metadata": {
      "needs_background": "light"
     },
     "output_type": "display_data"
    }
   ],
   "source": [
    "# Scatterplot of student performance prediction based on studytime and failures\n",
    "plt.figure(figsize=(10, 6))\n",
    "\n",
    "# scatter with positive correlation\n",
    "plt.scatter(df.studytime,\n",
    "           df.G3,\n",
    "           c=\"salmon\")\n",
    "\n",
    "# Scatter plot with negative correlation\n",
    "plt.scatter(df.failures,\n",
    "           df.G3,\n",
    "           c=\"lightblue\")\n",
    "\n",
    "# Add some helpful information\n",
    "plt.title(\"Student Performance as a Result of Study Time and Failures\")\n",
    "plt.xlabel(\"Study Time\")\n",
    "plt.ylabel(\"Failures\")\n",
    "plt.legend([\"Studytime\", \"Failures\"]);"
   ]
  },
  {
   "cell_type": "code",
   "execution_count": 29,
   "id": "162e02fb",
   "metadata": {},
   "outputs": [
    {
     "data": {
      "image/png": "[encoded data removed]",
      "text/plain": [
       "<Figure size 432x288 with 1 Axes>"
      ]
     },
     "metadata": {},
     "output_type": "display_data"
    }
   ],
   "source": [
    "plt.style.use('ggplot')\n",
    "sns.barplot(x='G3',y='failures',data=df,hue='Walc',palette='pastel', ci=None)\n",
    "plt.title('Failures Per Score by the Amount of Alcohol Consumed Each Week')\n",
    "plt.show()"
   ]
  },
  {
   "cell_type": "code",
   "execution_count": null,
   "id": "2e973a7d",
   "metadata": {},
   "outputs": [],
   "source": []
  }
 ],
 "metadata": {
  "kernelspec": {
   "display_name": "Python 3 (ipykernel)",
   "language": "python",
   "name": "python3"
  },
  "language_info": {
   "codemirror_mode": {
    "name": "ipython",
    "version": 3
   },
   "file_extension": ".py",
   "mimetype": "text/x-python",
   "name": "python",
   "nbconvert_exporter": "python",
   "pygments_lexer": "ipython3",
   "version": "3.9.7"
  }
 },
 "nbformat": 4,
 "nbformat_minor": 5
}
